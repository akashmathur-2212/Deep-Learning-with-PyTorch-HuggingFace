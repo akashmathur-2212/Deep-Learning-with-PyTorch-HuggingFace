{
 "cells": [
  {
   "cell_type": "code",
   "execution_count": 13,
   "id": "fbacfe7f",
   "metadata": {},
   "outputs": [],
   "source": [
    "import os\n",
    "from dotenv import load_dotenv\n",
    "load_dotenv()\n",
    "\n",
    "from distilabel.models.llms import OllamaLLM\n",
    "from distilabel.pipeline import Pipeline\n",
    "from distilabel.steps import LoadDataFromHub\n",
    "from distilabel.steps.tasks import TextGeneration, UltraFeedback"
   ]
  },
  {
   "cell_type": "markdown",
   "id": "3ab0fb3c",
   "metadata": {},
   "source": [
    "## Dataset"
   ]
  },
  {
   "cell_type": "code",
   "execution_count": 14,
   "id": "4f12bdcf",
   "metadata": {},
   "outputs": [
    {
     "name": "stderr",
     "output_type": "stream",
     "text": [
      "Step 'None' hasn't received a pipeline, and it hasn't been created within a `Pipeline` context. Please, use `with Pipeline() as pipeline:` and create the step within the context.\n"
     ]
    }
   ],
   "source": [
    "from distilabel.steps import LoadDataFromHub\n",
    "\n",
    "loader = LoadDataFromHub(\n",
    "    repo_id=\"distilabel-internal-testing/instruction-dataset-mini\",\n",
    "    split=\"test\",\n",
    "    batch_size=2\n",
    ")\n",
    "loader.load()"
   ]
  },
  {
   "cell_type": "code",
   "execution_count": 16,
   "id": "bb5d07ff",
   "metadata": {},
   "outputs": [
    {
     "data": {
      "text/plain": [
       "distilabel.steps.generators.huggingface.LoadDataFromHub"
      ]
     },
     "execution_count": 16,
     "metadata": {},
     "output_type": "execute_result"
    }
   ],
   "source": [
    "type(loader)"
   ]
  },
  {
   "cell_type": "code",
   "execution_count": null,
   "id": "7d9bbd71",
   "metadata": {},
   "outputs": [
    {
     "data": {
      "text/plain": [
       "([{'prompt': 'Arianna has 12 chocolates more than Danny. Danny has 6 chocolates more than Robbie. Arianna has twice as many chocolates as Robbie has. How many chocolates does Danny have?',\n",
       "   'completion': 'Denote the number of chocolates each person has by the letter of their first name. We know that\\nA = D + 12\\nD = R + 6\\nA = 2 * R\\n\\nThus, A = (R + 6) + 12 = R + 18\\nSince also A = 2 * R, this means 2 * R = R + 18\\nHence R = 18\\nHence D = 18 + 6 = 24',\n",
       "   'meta': {'id': 0,\n",
       "    'motivation_app': None,\n",
       "    'prompt': 'Arianna has 12 chocolates more than Danny. Danny has 6 chocolates more than Robbie. Arianna has twice as many chocolates as Robbie has. How many chocolates does Danny have?',\n",
       "    'input': None,\n",
       "    'completion': 'Denote the number of chocolates each person has by the letter of their first name. We know that\\nA = D + 12\\nD = R + 6\\nA = 2 * R\\n\\nThus, A = (R + 6) + 12 = R + 18\\nSince also A = 2 * R, this means 2 * R = R + 18\\nHence R = 18\\nHence D = 18 + 6 = 24',\n",
       "    'source': 'surge',\n",
       "    'category': 'Question Answering',\n",
       "    'subcategory': 'Math'}},\n",
       "  {'prompt': 'Write a plot summary for a comedic novel involving Elon Musk and sea travel.',\n",
       "   'completion': 'Elon Musk hires a team of experts to build the ultimate yacht, but when the yacht is completed, he realizes that he has no idea how to sail it. With the help of a quirky crew and a fearless captain, the playboy embarks on a wild and hilarious adventure across the open seas, where the crew have to keep Elon alive despite his inability to do anything himself. All the while, Elon takes credit for their hard work.',\n",
       "   'meta': {'id': 1,\n",
       "    'motivation_app': None,\n",
       "    'prompt': 'Write a plot summary for a comedic novel involving Elon Musk and sea travel.',\n",
       "    'input': None,\n",
       "    'completion': 'Elon Musk hires a team of experts to build the ultimate yacht, but when the yacht is completed, he realizes that he has no idea how to sail it. With the help of a quirky crew and a fearless captain, the playboy embarks on a wild and hilarious adventure across the open seas, where the crew have to keep Elon alive despite his inability to do anything himself. All the while, Elon takes credit for their hard work.',\n",
       "    'source': 'surge',\n",
       "    'category': 'Generation',\n",
       "    'subcategory': 'Story generation'}}],\n",
       " False)"
      ]
     },
     "execution_count": 15,
     "metadata": {},
     "output_type": "execute_result"
    }
   ],
   "source": [
    "result = next(loader.process())\n",
    "result"
   ]
  },
  {
   "cell_type": "code",
   "execution_count": 21,
   "id": "45bb642d",
   "metadata": {},
   "outputs": [
    {
     "data": {
      "text/plain": [
       "([{'prompt': 'Arianna has 12 chocolates more than Danny. Danny has 6 chocolates more than Robbie. Arianna has twice as many chocolates as Robbie has. How many chocolates does Danny have?',\n",
       "   'completion': 'Denote the number of chocolates each person has by the letter of their first name. We know that\\nA = D + 12\\nD = R + 6\\nA = 2 * R\\n\\nThus, A = (R + 6) + 12 = R + 18\\nSince also A = 2 * R, this means 2 * R = R + 18\\nHence R = 18\\nHence D = 18 + 6 = 24',\n",
       "   'meta': {'id': 0,\n",
       "    'motivation_app': None,\n",
       "    'prompt': 'Arianna has 12 chocolates more than Danny. Danny has 6 chocolates more than Robbie. Arianna has twice as many chocolates as Robbie has. How many chocolates does Danny have?',\n",
       "    'input': None,\n",
       "    'completion': 'Denote the number of chocolates each person has by the letter of their first name. We know that\\nA = D + 12\\nD = R + 6\\nA = 2 * R\\n\\nThus, A = (R + 6) + 12 = R + 18\\nSince also A = 2 * R, this means 2 * R = R + 18\\nHence R = 18\\nHence D = 18 + 6 = 24',\n",
       "    'source': 'surge',\n",
       "    'category': 'Question Answering',\n",
       "    'subcategory': 'Math'}},\n",
       "  {'prompt': 'Write a plot summary for a comedic novel involving Elon Musk and sea travel.',\n",
       "   'completion': 'Elon Musk hires a team of experts to build the ultimate yacht, but when the yacht is completed, he realizes that he has no idea how to sail it. With the help of a quirky crew and a fearless captain, the playboy embarks on a wild and hilarious adventure across the open seas, where the crew have to keep Elon alive despite his inability to do anything himself. All the while, Elon takes credit for their hard work.',\n",
       "   'meta': {'id': 1,\n",
       "    'motivation_app': None,\n",
       "    'prompt': 'Write a plot summary for a comedic novel involving Elon Musk and sea travel.',\n",
       "    'input': None,\n",
       "    'completion': 'Elon Musk hires a team of experts to build the ultimate yacht, but when the yacht is completed, he realizes that he has no idea how to sail it. With the help of a quirky crew and a fearless captain, the playboy embarks on a wild and hilarious adventure across the open seas, where the crew have to keep Elon alive despite his inability to do anything himself. All the while, Elon takes credit for their hard work.',\n",
       "    'source': 'surge',\n",
       "    'category': 'Generation',\n",
       "    'subcategory': 'Story generation'}}],\n",
       " False)"
      ]
     },
     "execution_count": 21,
     "metadata": {},
     "output_type": "execute_result"
    }
   ],
   "source": [
    "next(loader.process())"
   ]
  },
  {
   "cell_type": "markdown",
   "id": "c691e4f1",
   "metadata": {},
   "source": [
    "## LLM"
   ]
  },
  {
   "cell_type": "code",
   "execution_count": null,
   "id": "5e74bf40",
   "metadata": {},
   "outputs": [
    {
     "name": "stderr",
     "output_type": "stream",
     "text": [
      "/var/folders/78/86ckn1md5y5drxprldlf315c0000gn/T/ipykernel_91725/2664429673.py:5: UserWarning: A custom validator is returning a value other than `self`.\n",
      "Returning anything other than `self` from a top level model validator isn't supported when validating via `__init__`.\n",
      "See the `model_validator` docs (https://docs.pydantic.dev/latest/concepts/validators/#model-validators) for more details.\n",
      "  llm = OllamaLLM(model=\"gemma3:4b\")  # Must match ollama model name\n"
     ]
    }
   ],
   "source": [
    "# Instantiate Ollama model\n",
    "\n",
    "llm = OllamaLLM(model=\"gemma3:4b\")  # Must match ollama model name\n",
    "llm.load()"
   ]
  },
  {
   "cell_type": "code",
   "execution_count": null,
   "id": "ca069fdc",
   "metadata": {},
   "outputs": [
    {
     "data": {
      "text/plain": [
       "[{'generations': [\"Hello there! 👋 It's great to hear from you. \\n\\nHow's your day going so far? 😊\\n\"],\n",
       "  'statistics': {'input_tokens': [12], 'output_tokens': [27]}}]"
      ]
     },
     "execution_count": 10,
     "metadata": {},
     "output_type": "execute_result"
    }
   ],
   "source": [
    "llmoutput = llm.generate(inputs=[[{\"role\": \"user\", \"content\": \"Hello world!\"}]])\n",
    "llmoutput"
   ]
  },
  {
   "cell_type": "code",
   "execution_count": null,
   "id": "9fc2dff8",
   "metadata": {},
   "outputs": [],
   "source": [
    "with Pipeline(  # \n",
    "    name=\"simple-text-generation-pipeline\",\n",
    "    description=\"A simple text generation pipeline\",\n",
    ") as pipeline:  # \n",
    "    load_dataset = LoadDataFromHub(  # \n",
    "        name=\"load_dataset\",\n",
    "        output_mappings={\"prompt\": \"instruction\"},\n",
    "    )\n",
    "\n",
    "    text_generation = TextGeneration(  # \n",
    "        name=\"text_generation\",\n",
    "        llm=llm,  # \n",
    "    )\n",
    "\n",
    "    load_dataset >> text_generation # type: ignore\n",
    "\n",
    "if __name__ == \"__main__\":\n",
    "    distiset = pipeline.run(\n",
    "        parameters={\n",
    "            load_dataset.name: {\n",
    "                \"repo_id\": \"distilabel-internal-testing/instruction-dataset-mini\",\n",
    "                \"split\": \"test\",\n",
    "            }\n",
    "        },\n",
    "    )"
   ]
  }
 ],
 "metadata": {
  "kernelspec": {
   "display_name": "pytorch (3.12.11)",
   "language": "python",
   "name": "python3"
  },
  "language_info": {
   "codemirror_mode": {
    "name": "ipython",
    "version": 3
   },
   "file_extension": ".py",
   "mimetype": "text/x-python",
   "name": "python",
   "nbconvert_exporter": "python",
   "pygments_lexer": "ipython3",
   "version": "3.12.11"
  }
 },
 "nbformat": 4,
 "nbformat_minor": 5
}
